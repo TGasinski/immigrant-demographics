{
 "cells": [
  {
   "cell_type": "markdown",
   "metadata": {},
   "source": [
    "# Comparison of Immigrant Demographics: United States and Germany\n",
    "## Data Cleaning, Wrangling, and Transformation"
   ]
  },
  {
   "cell_type": "code",
   "execution_count": 1,
   "metadata": {},
   "outputs": [],
   "source": [
    "from IPython.display import display, HTML"
   ]
  },
  {
   "cell_type": "markdown",
   "metadata": {},
   "source": [
    "## Introduction \n",
    "\n",
    "As part of my Masters program in Political Economy, I wrote a research paper exploring how different forms of \"entry categories\" in the United States (U.S.) and Germany affect immigrants' access to social welfare programs. You can read that paper, \"The Life of a Civilized Being: A comparative analysis of immigrant social rights within the United States and Germany\", <a href=\"https://wordpress.com/post/theresagasinski.wordpress.com/2176\">here</a>. \n",
    "\n",
    "To complement that research, I designed a few interactive graphics to explore recent demographic developments in the U.S. and Germany using Plotly. This notebook contains the data cleaning, wrangling and transformation that was required before the plots could be rendered. To see my final graphs, click <a href=\"https://nbviewer.jupyter.org/gist/TGasinski/ec2eaf17b8ebc3d11f5d78ea7055ca29\">here</a>. "
   ]
  },
  {
   "cell_type": "markdown",
   "metadata": {},
   "source": [
    "## Data Sources"
   ]
  },
  {
   "cell_type": "markdown",
   "metadata": {},
   "source": [
    "__US Datasets Retrieved From:__ US Office of Immigration Statistics, US Census Bureau, and Migration Policy Institute\n",
    "\n",
    "\n",
    "__German Datasets Retreived From:__ Statistiches Bundesamt"
   ]
  },
  {
   "cell_type": "code",
   "execution_count": 2,
   "metadata": {},
   "outputs": [],
   "source": [
    "# import packages\n",
    "\n",
    "import pandas as pd\n",
    "import csv as csv\n",
    "import numpy as np\n",
    "import os\n",
    "import matplotlib.pyplot as plt\n",
    "import seaborn as sns\n",
    "\n",
    "import plotly.plotly as py\n",
    "import plotly.graph_objs as go\n",
    "from plotly import tools\n",
    "from plotly.offline import init_notebook_mode, iplot\n",
    "\n",
    "pd.options.mode.chained_assignment = None"
   ]
  },
  {
   "cell_type": "code",
   "execution_count": 3,
   "metadata": {},
   "outputs": [
    {
     "data": {
      "text/html": [
       "<script type=\"text/javascript\">window.PlotlyConfig = {MathJaxConfig: 'local'};</script><script type=\"text/javascript\">if (window.MathJax) {MathJax.Hub.Config({SVG: {font: \"STIX-Web\"}});}</script><script>requirejs.config({paths: { 'plotly': ['https://cdn.plot.ly/plotly-latest.min']},});if(!window._Plotly) {require(['plotly'],function(plotly) {window._Plotly=plotly;});}</script>"
      ],
      "text/vnd.plotly.v1+html": [
       "<script type=\"text/javascript\">window.PlotlyConfig = {MathJaxConfig: 'local'};</script><script type=\"text/javascript\">if (window.MathJax) {MathJax.Hub.Config({SVG: {font: \"STIX-Web\"}});}</script><script>requirejs.config({paths: { 'plotly': ['https://cdn.plot.ly/plotly-latest.min']},});if(!window._Plotly) {require(['plotly'],function(plotly) {window._Plotly=plotly;});}</script>"
      ]
     },
     "metadata": {},
     "output_type": "display_data"
    }
   ],
   "source": [
    "init_notebook_mode(connected=True)"
   ]
  },
  {
   "cell_type": "code",
   "execution_count": 4,
   "metadata": {},
   "outputs": [],
   "source": [
    "# read files\n",
    "\n",
    "# us legal permanent residents\n",
    "us_lpr_number = pd.read_excel(r'C:\\Users\\t_gas\\Desktop\\Political Economy - Masters\\WS\\Work, Labor, Social Reproduction\\Term Paper\\Data\\fy2017_table1.xlsx')\n",
    "us_lpr_country_17 = pd.read_excel(r'C:\\Users\\t_gas\\Desktop\\Political Economy - Masters\\WS\\Work, Labor, Social Reproduction\\Term Paper\\Data\\fy2017_immsuptable1d.xlsx')\n",
    "\n",
    "# us other nonimmigrants\n",
    "us_nonimm_number_1 = pd.read_excel(r'C:\\Users\\t_gas\\Desktop\\Political Economy - Masters\\WS\\Work, Labor, Social Reproduction\\Term Paper\\Data\\Table 25d.xls')\n",
    "us_nonimm_number_2 = pd.read_excel(r'C:\\Users\\t_gas\\Desktop\\Political Economy - Masters\\WS\\Work, Labor, Social Reproduction\\Term Paper\\Data\\fy2017_table25d.xlsx')\n",
    "us_nonimm_country_17 = pd.read_excel(r'C:\\Users\\t_gas\\Desktop\\Political Economy - Masters\\WS\\Work, Labor, Social Reproduction\\Term Paper\\Data\\fy2017_nonimmsuptable1d.xlsx')\n",
    "\n",
    "# us refugees and asylum seekers\n",
    "us_ref_asy_number = pd.read_excel(r'C:\\Users\\t_gas\\Desktop\\Political Economy - Masters\\WS\\Work, Labor, Social Reproduction\\Term Paper\\Data\\MPI-Data-Hub_Refugee-Admissions_2018.xlsx') \n",
    "\n",
    "# us population \n",
    "us_pop_1 = pd.read_excel(r'C:\\Users\\t_gas\\Desktop\\Political Economy - Masters\\WS\\Work, Labor, Social Reproduction\\Term Paper\\Data\\st-est00int-01.xls')\n",
    "us_pop_2 = pd.read_csv(r'C:\\Users\\t_gas\\Desktop\\Political Economy - Masters\\WS\\Work, Labor, Social Reproduction\\Term Paper\\Data\\nst-est2018-alldata.csv')\n",
    "\n",
    "# germany immigration data (number, country of origin)\n",
    "de_imm_number = pd.read_excel(r'C:\\Users\\t_gas\\Desktop\\Political Economy - Masters\\WS\\Work, Labor, Social Reproduction\\Term Paper\\Data\\Germany_1998-2017_Ausländer_Numbers.xls')\n",
    "de_imm_country_17 = pd.read_excel(r'C:\\Users\\t_gas\\Desktop\\Political Economy - Masters\\WS\\Work, Labor, Social Reproduction\\Term Paper\\Data\\Germany_2017_Ausländer.xls')\n",
    "\n",
    "# germany refugee, asylum seekers, and humanitarian grounds\n",
    "de_ref_asy_hum_number = pd.read_excel(r'C:\\Users\\t_gas\\Desktop\\Political Economy - Masters\\WS\\Work, Labor, Social Reproduction\\Term Paper\\Data\\Germany_Refugees_Asylees_Year.xls')\n",
    "\n",
    "# germany population data\n",
    "de_pop = pd.read_excel(r'C:\\Users\\t_gas\\Desktop\\Political Economy - Masters\\WS\\Work, Labor, Social Reproduction\\Term Paper\\Data\\Germany_Population.xls')"
   ]
  },
  {
   "cell_type": "markdown",
   "metadata": {},
   "source": [
    "## U.S. Data"
   ]
  },
  {
   "cell_type": "code",
   "execution_count": 5,
   "metadata": {},
   "outputs": [],
   "source": [
    "# fix layout\n",
    "\n",
    "us_lpr_number = us_lpr_number[3:]\n",
    "lpr1 = us_lpr_number[['Table 1.', 'Unnamed: 1']].copy()\n",
    "lpr1.rename(columns = {'Table 1.': 'Year', 'Unnamed: 1': 'Number'}, inplace=True)\n",
    "lpr2 = us_lpr_number[['Unnamed: 2', 'Unnamed: 3']].copy()\n",
    "lpr2.rename(columns = {'Unnamed: 2': 'Year', 'Unnamed: 3': 'Number'}, inplace=True)\n",
    "lpr3 = us_lpr_number[['Unnamed: 4', 'Unnamed: 5']].copy()\n",
    "lpr3.rename(columns = {'Unnamed: 4': 'Year', 'Unnamed: 5': 'Number'}, inplace=True)\n",
    "lpr4 = us_lpr_number[['Unnamed: 6', 'Unnamed: 7']].copy()\n",
    "lpr4.rename(columns = {'Unnamed: 6': 'Year', 'Unnamed: 7': 'Number'}, inplace=True)\n",
    "lpr5 = lpr1.append(lpr2, ignore_index=True)\n",
    "lpr6 = lpr3.append(lpr4, ignore_index=True)\n",
    "us_lpr = lpr5.append(lpr6, ignore_index=True)\n",
    "us_lpr.rename(columns = {'Number': 'Number LPR'}, inplace = True)"
   ]
  },
  {
   "cell_type": "code",
   "execution_count": 6,
   "metadata": {},
   "outputs": [],
   "source": [
    "# convert to string\n",
    "\n",
    "us_lpr['Year'] = us_lpr['Year'].astype(str)"
   ]
  },
  {
   "cell_type": "code",
   "execution_count": 7,
   "metadata": {},
   "outputs": [],
   "source": [
    "# fix layout (only keep labor migrant data)\n",
    "\n",
    "headers_1 = us_nonimm_number_1.iloc[2]\n",
    "us_nonimm_number_1 = us_nonimm_number_1.iloc[3:83]\n",
    "us_nonimm_number_1.rename(columns = headers_1, inplace=True)\n",
    "us_nonimm_1 = us_nonimm_number_1.transpose()\n",
    "headers_2 = us_nonimm_1.iloc[0]\n",
    "us_nonimm_1 = us_nonimm_1.iloc[1:]\n",
    "us_nonimm_1.rename(columns = headers_2, inplace=True)\n",
    "us_nonimm_1.rename(columns=lambda x: x.strip(), inplace = True)"
   ]
  },
  {
   "cell_type": "code",
   "execution_count": 8,
   "metadata": {},
   "outputs": [],
   "source": [
    "# add new column with total numbers\n",
    "\n",
    "us_nonimm_1 = us_nonimm_1[['Total All Admissions 1', 'Total I-94 Admissions', 'Temporary workers and families', 'Temporary workers and trainees', 'Temporary workers with “specialty occupation” (H1B)', 'Chile and Singapore Free Trade Agreement aliens (H1B1)', 'Registered nurses participating in the Nursing Relief for Disadvantaged Areas (H1C)', 'Seasonal agricultural workers (H2A) 4', 'Seasonal nonagricultural workers (H2B) 4', 'Returning H2B workers (H2R) 4', 'Trainees (H3)', 'Spouses and children of H1, H2, or H3 (H4)', 'Workers with extraordinary ability or achievement (O1)', 'Workers accompanying and assisting in performance of O1 workers (O2)', 'Spouses and children of O1 and O2 (O3)']].copy()\n",
    "us_nonimm_1.loc[us_nonimm_1['Chile and Singapore Free Trade Agreement aliens (H1B1)'] == 'X', 'Chile and Singapore Free Trade Agreement aliens (H1B1)'] = 0\n",
    "us_nonimm_1.loc[us_nonimm_1['Registered nurses participating in the Nursing Relief for Disadvantaged Areas (H1C)'] == 'X', 'Registered nurses participating in the Nursing Relief for Disadvantaged Areas (H1C)'] = 0\n",
    "us_nonimm_1.loc[us_nonimm_1['Registered nurses participating in the Nursing Relief for Disadvantaged Areas (H1C)'] == '-', 'Registered nurses participating in the Nursing Relief for Disadvantaged Areas (H1C)'] = 0\n",
    "us_nonimm_1.loc[us_nonimm_1['Returning H2B workers (H2R) 4'] == 'X', 'Returning H2B workers (H2R) 4'] = 0\n",
    "columns_1 = list(us_nonimm_1)\n",
    "columns_1.remove('Total All Admissions 1')\n",
    "columns_1.remove('Total I-94 Admissions')\n",
    "us_nonimm_1['Labor Migrants'] = us_nonimm_1[columns_1].sum(axis=1)\n",
    "us_labor_1 = us_nonimm_1[['Labor Migrants']].copy()\n",
    "us_labor_1.rename(columns = {'index' : 'Year'}, inplace = True)"
   ]
  },
  {
   "cell_type": "code",
   "execution_count": 9,
   "metadata": {},
   "outputs": [],
   "source": [
    "# fix layout\n",
    "\n",
    "headers_3 = us_nonimm_number_2.iloc[2]\n",
    "us_nonimm_number_2 = us_nonimm_number_2.iloc[3:85]\n",
    "us_nonimm_number_2.rename(columns = headers_3, inplace=True)\n",
    "us_nonimm_2 = us_nonimm_number_2.transpose()\n",
    "headers_4 = us_nonimm_2.iloc[0]\n",
    "us_nonimm_2 = us_nonimm_2.iloc[1:]\n",
    "us_nonimm_2.rename(columns = headers_4, inplace=True)\n",
    "us_nonimm_2.rename(columns=lambda x: x.strip(), inplace = True)"
   ]
  },
  {
   "cell_type": "code",
   "execution_count": 10,
   "metadata": {},
   "outputs": [],
   "source": [
    "# add new column with total numbers\n",
    "\n",
    "us_nonimm_2 = us_nonimm_2[['Total all admissions 2', 'Total I-94 admissions 3', 'Temporary workers and families', 'Temporary workers and trainees', 'CNMI-only transitional workers (CW1)', 'Spouses and children of CW1 (CW2)', 'Temporary workers in specialty occupations (H1B)', 'Chile and Singapore Free Trade Agreement aliens (H1B1)', 'Registered nurses participating in the Nursing Relief for Disadvantaged Areas (H1C)', 'Agricultural workers (H2A) 4', 'Nonagricultural workers (H2B)', 'Returning H2B workers (H2R) 5', 'Trainees (H3)', 'Spouses and children of H1, H2, or H3 (H4)', 'Workers with extraordinary ability or achievement (O1)', 'Workers accompanying and assisting in performance of O1 workers (O2)', 'Spouses and children of O1 and O2 (O3)', 'Internationally recognized athletes or entertainers (P1)', 'Artists or entertainers in reciprocal exchange programs (P2)', 'Artists or entertainers in culturally unique programs (P3)', 'Spouses and children of P1, P2, or P3 (P4)', 'Workers in international cultural exchange programs (Q1)', 'Workers in religious occupations (R1)', 'Spouses and children of R1 (R2)', 'North American Free Trade Agreement (NAFTA) professional workers (TN)', 'Spouses and children of TN (TD)', 'Intracompany transferees', 'Intracompany transferees (L1)', 'Spouses and children of L1 (L2)', 'Treaty traders and investors', 'Treaty traders and their spouses and children (E1)', 'Treaty investors and their spouses and children (E2)', 'Treaty investors and their spouses and children (CNMI only) (E2C)', 'Australian Free Trade Agreement principals, spouses and children (E3)', 'Representatives of foreign information media', 'Representatives of foreign information media and spouses and children (I1)']].copy()\n",
    "us_nonimm_2.loc[us_nonimm_2['CNMI-only transitional workers (CW1)'] == 'X', 'CNMI-only transitional workers (CW1)'] = 0\n",
    "us_nonimm_2.loc[us_nonimm_2['CNMI-only transitional workers (CW1)'] == 'D', 'CNMI-only transitional workers (CW1)'] = 0\n",
    "us_nonimm_2.loc[us_nonimm_2['CNMI-only transitional workers (CW1)'] == '-', 'CNMI-only transitional workers (CW1)'] = 0\n",
    "us_nonimm_2.loc[us_nonimm_2['Spouses and children of CW1 (CW2)'] == 'X', 'Spouses and children of CW1 (CW2)'] = 0\n",
    "us_nonimm_2.loc[us_nonimm_2['Spouses and children of CW1 (CW2)'] == '-', 'Spouses and children of CW1 (CW2)'] = 0\n",
    "us_nonimm_2.loc[us_nonimm_2['Chile and Singapore Free Trade Agreement aliens (H1B1)'] == 'D', 'Chile and Singapore Free Trade Agreement aliens (H1B1)'] = 0\n",
    "us_nonimm_2.loc[us_nonimm_2['Registered nurses participating in the Nursing Relief for Disadvantaged Areas (H1C)'] == 'D', 'Registered nurses participating in the Nursing Relief for Disadvantaged Areas (H1C)'] = 0\n",
    "us_nonimm_2.loc[us_nonimm_2['Registered nurses participating in the Nursing Relief for Disadvantaged Areas (H1C)'] == '-', 'Registered nurses participating in the Nursing Relief for Disadvantaged Areas (H1C)'] = 0\n",
    "us_nonimm_2.loc[us_nonimm_2['Returning H2B workers (H2R) 5'] == 'D', 'Returning H2B workers (H2R) 5'] = 0\n",
    "us_nonimm_2.loc[us_nonimm_2['Treaty investors and their spouses and children (CNMI only) (E2C)'] == 'X', 'Treaty investors and their spouses and children (CNMI only) (E2C)'] = 0\n",
    "us_nonimm_2.loc[us_nonimm_2['Treaty investors and their spouses and children (CNMI only) (E2C)'] == 'D', 'Treaty investors and their spouses and children (CNMI only) (E2C)'] = 0\n",
    "us_nonimm_2.loc[us_nonimm_2['Treaty investors and their spouses and children (CNMI only) (E2C)'] == '-', 'Treaty investors and their spouses and children (CNMI only) (E2C)'] = 0\n",
    "us_nonimm_2.loc[us_nonimm_2['Australian Free Trade Agreement principals, spouses and children (E3)'] == 'D', 'Australian Free Trade Agreement principals, spouses and children (E3)'] = 0\n",
    "columns_2 = list(us_nonimm_2)\n",
    "columns_2.remove('Total all admissions 2')\n",
    "columns_2.remove('Total I-94 admissions 3')\n",
    "us_nonimm_2['Labor Migrants'] = us_nonimm_2[columns_2].sum(axis=1)\n",
    "us_labor_2 = us_nonimm_2[['Labor Migrants']].copy()\n",
    "us_labor_2.rename(columns = {'index' : 'Year'}, inplace = True)"
   ]
  },
  {
   "cell_type": "code",
   "execution_count": 11,
   "metadata": {},
   "outputs": [],
   "source": [
    "# merge labor migrant data\n",
    "\n",
    "us_labor = us_labor_1.append(us_labor_2)\n",
    "us_labor = us_labor.reset_index()\n",
    "us_labor.rename(columns={'index' : 'Year'}, inplace=True)\n",
    "us_labor.loc[us_labor['Year'] == '2016 1', 'Year'] = '2016'\n",
    "us_labor['Year'] = us_labor['Year'].astype(str)"
   ]
  },
  {
   "cell_type": "code",
   "execution_count": 12,
   "metadata": {},
   "outputs": [],
   "source": [
    "# fix layout\n",
    "\n",
    "headers_5 = us_ref_asy_number.iloc[5]\n",
    "us_ref_asy_number_small = us_ref_asy_number.iloc[6:45]\n",
    "#us_ref_asy_number_small = us_ref_asy_number.iloc[6:]\n",
    "us_ref_asy_number_small.rename(columns=headers_5, inplace=True)\n",
    "us_ref_asy = us_ref_asy_number_small.iloc[20:45]\n",
    "us_ref_asy['Year'] = us_ref_asy['Year'].astype(str)"
   ]
  },
  {
   "cell_type": "code",
   "execution_count": 13,
   "metadata": {},
   "outputs": [],
   "source": [
    "# fix layout\n",
    "\n",
    "headers_6 = us_pop_1.iloc[2]\n",
    "us_pop_1 = us_pop_1.drop(['Unnamed: 2', 'Unnamed: 12', 'Unnamed: 13'], axis=1)\n",
    "us_pop_1 = us_pop_1.iloc[:4]\n",
    "us_pop_1 = us_pop_1.iloc[3:]\n",
    "us_pop_1.rename(columns = {'Unnamed: 1' : '2000'}, inplace=True)\n",
    "us_pop_1.rename(columns = headers_6, inplace=True)\n",
    "us_pop_1 = us_pop_1.transpose()\n",
    "us_pop_1 = us_pop_1.reset_index()\n",
    "us_pop_1.rename(columns = {'index' : 'Year', 3 : 'United States'}, inplace=True)\n",
    "us_pop_1 = us_pop_1.iloc[1:]"
   ]
  },
  {
   "cell_type": "code",
   "execution_count": 14,
   "metadata": {},
   "outputs": [],
   "source": [
    "# fix layout\n",
    "\n",
    "us_pop_2 = us_pop_2[['NAME', 'CENSUS2010POP', 'POPESTIMATE2011', 'POPESTIMATE2012', 'POPESTIMATE2013', 'POPESTIMATE2014', 'POPESTIMATE2015', 'POPESTIMATE2016', 'POPESTIMATE2017', 'POPESTIMATE2018']].copy()\n",
    "us_pop_2 = us_pop_2.iloc[:1]\n",
    "us_pop_2_dict = {'CENSUS2010POP' : '2010', 'POPESTIMATE2011': '2011', 'POPESTIMATE2012' : '2012', 'POPESTIMATE2013' : '2013', 'POPESTIMATE2014' : '2014', 'POPESTIMATE2015' : '2015', 'POPESTIMATE2016' : '2016', 'POPESTIMATE2017' : '2017', 'POPESTIMATE2018' : '2018'}\n",
    "us_pop_2.rename(columns = us_pop_2_dict, inplace=True)\n",
    "us_pop_2 = us_pop_2.transpose()\n",
    "headers_7 = us_pop_2.iloc[0]\n",
    "us_pop_2.rename(columns = headers_7, inplace=True)\n",
    "us_pop_2 = us_pop_2.iloc[1:]\n",
    "us_pop_2 = us_pop_2.reset_index()\n",
    "us_pop_2.rename(columns = {'index' : 'Year'}, inplace = True)"
   ]
  },
  {
   "cell_type": "code",
   "execution_count": 15,
   "metadata": {},
   "outputs": [],
   "source": [
    "# merge pop datasets\n",
    "\n",
    "us_pop = us_pop_1.append(us_pop_2, ignore_index = True)\n",
    "\n",
    "# convert column to string\n",
    "\n",
    "us_pop['Year'] = us_pop['Year'].astype(str)\n",
    "us_pop['Year'] = us_pop['Year'].str.replace(\"\\.0\", \"\")"
   ]
  },
  {
   "cell_type": "markdown",
   "metadata": {},
   "source": [
    "__Note on U.S. population numbers:__ I use the official census numbers, released in April 2000 and April 2010. For non-census years, I use the population estimates, which are collected in July."
   ]
  },
  {
   "cell_type": "code",
   "execution_count": 16,
   "metadata": {},
   "outputs": [],
   "source": [
    "# merge all datasets \n",
    "\n",
    "us1 = pd.merge(us_lpr, us_labor, on = 'Year', how='left')\n",
    "us2 = pd.merge(us1, us_ref_asy, on ='Year', how = 'left')\n",
    "us = pd.merge(us2, us_pop, on='Year', how='left')\n",
    "us = us.iloc[194:212]\n",
    "us = us.set_index('Year')"
   ]
  },
  {
   "cell_type": "code",
   "execution_count": 17,
   "metadata": {},
   "outputs": [],
   "source": [
    "# create smaller dataframe for graph\n",
    "\n",
    "us_graph_1 = us[['Number LPR', 'Labor Migrants', 'Number of Admitted Refugees']].copy()\n",
    "us_graph_1.reset_index(inplace=True)"
   ]
  },
  {
   "cell_type": "code",
   "execution_count": 18,
   "metadata": {},
   "outputs": [],
   "source": [
    "# fix layout \n",
    "\n",
    "headers_8 = us_nonimm_country_17.iloc[2]\n",
    "us_nonimm_country_17 = us_nonimm_country_17.iloc[3:]\n",
    "us_nonimm_country_17.rename(columns=headers_8, inplace=True)\n",
    "us_nonimm_country_17.columns = us_nonimm_country_17.columns.str.replace('United Kingdom9', 'United Kingdom')\n",
    "us_nonimm_country_17.columns = us_nonimm_country_17.columns.str.replace('Australia1', 'Australia')"
   ]
  },
  {
   "cell_type": "code",
   "execution_count": 19,
   "metadata": {},
   "outputs": [],
   "source": [
    "# read in dataset\n",
    "\n",
    "country_codes_original = pd.read_excel(r'C:\\Users\\t_gas\\Desktop\\Political Economy - Masters\\WS\\Work, Labor, Social Reproduction\\Term Paper\\Data\\Country Codes.xlsx')\n",
    "\n",
    "# create dictionary\n",
    "\n",
    "country_codes_us = dict(zip(country_codes_original['Country or Area'], country_codes_original['ISO-alpha3 Code']))"
   ]
  },
  {
   "cell_type": "code",
   "execution_count": 20,
   "metadata": {},
   "outputs": [],
   "source": [
    "us_nonimm_country_map = us_nonimm_country_17.iloc[0]\n",
    "us_nonimm_country_map = us_nonimm_country_map.iloc[3:]\n",
    "us_nonimm_country_map = pd.DataFrame(us_nonimm_country_map)\n",
    "us_nonimm_country_map= us_nonimm_country_map.reset_index()\n",
    "us_nonimm_country_map.columns = ['Countries', 'Total']\n",
    "us_nonimm_country_map['Code'] = us_nonimm_country_map['Countries'].map(country_codes_us)\n",
    "us_nonimm_country_map['Total'] = pd.to_numeric(us_nonimm_country_map['Total'], errors='coerce')"
   ]
  },
  {
   "cell_type": "code",
   "execution_count": 21,
   "metadata": {},
   "outputs": [],
   "source": [
    "# to identify errors, I used: us_nonimm_country_map.loc[us_nonimm_country_map['Code'].isna() == True]"
   ]
  },
  {
   "cell_type": "code",
   "execution_count": 22,
   "metadata": {},
   "outputs": [],
   "source": [
    "us_nonimm_country_map['Countries'] = us_nonimm_country_map['Countries'].str.replace('Morocco6', 'Morocco')\n",
    "us_nonimm_country_map['Countries'] = us_nonimm_country_map['Countries'].str.replace('Netherlands7', 'Netherlands')\n",
    "us_nonimm_country_map['Countries'] = us_nonimm_country_map['Countries'].str.replace('New Zealand8', 'New Zealand')\n",
    "us_nonimm_country_map['Countries'] = us_nonimm_country_map['Countries'].str.replace('Denmark4', 'Denmark')\n",
    "us_nonimm_country_map['Countries'] = us_nonimm_country_map['Countries'].str.replace('France5', 'France')\n",
    "us_nonimm_country_map['Countries'] = us_nonimm_country_map['Countries'].str.replace(\"China, People's Republic2,3\", \"China, People's Republic\")\n",
    "\n",
    "# create dictionary with errors\n",
    "\n",
    "fix_us = { \n",
    "    \"Bolivia (Plurinational State of)\" : \"Bolivia\", \n",
    "    \"Brunei Darussalam\" : \"Brunei\", \n",
    "    \"Myanmar\" :  \"Burma\", \n",
    "    \"China\" : \"China, People's Republic\",\n",
    "    \"Democratic Republic of the Congo\" : \"Congo, Democratic Republic\", \n",
    "    \"Congo\" : \"Congo, Republic\", \n",
    "    \"Côte d’Ivoire\" : \"Cote d'Ivoire\",  \n",
    "    \"Iran (Islamic Republic of)\" : \"Iran\", \n",
    "    \"Democratic People's Republic of Korea\" : \"Korea, North\",\n",
    "    \"Republic of Korea\" : \"Korea, South\",\n",
    "    \"Lao People's Democratic Republic\": \"Laos\",\n",
    "    \"North Macedonia\" : \"Macedonia\", \n",
    "    \"Micronesia (Federated States of)\" : \"Micronesia, Federated States\", \n",
    "    \"Republic of Moldova\" : \"Moldova\",  \n",
    "    \"Russian Federation\" : \"Russia\", \n",
    "    \"Serbia\" : \"Serbia and Montenegro (former)\", \n",
    "    \"Syrian Arab Republic\" : \"Syria\", \n",
    "    \"United Republic of Tanzania\" : \"Tanzania\", \n",
    "    \"United Kingdom of Great Britain and Northern Ireland\" : \"United Kingdom\", \n",
    "    \"Venezuela (Bolivarian Republic of)\" : \"Venezuela\", \n",
    "    \"Viet Nam\" : \"Vietnam\"\n",
    "    }\n",
    "\n",
    "\n",
    "# fix values\n",
    "\n",
    "country_codes_fixed_us = country_codes_original.copy()\n",
    "country_codes_fixed_us['Country or Area'] = country_codes_original['Country or Area'].map(fix_us).fillna(country_codes_original['Country or Area'])\n",
    "\n",
    "\n",
    "# override dictionary\n",
    "\n",
    "country_codes_us = dict(zip(country_codes_fixed_us['Country or Area'], country_codes_fixed_us['ISO-alpha3 Code']))"
   ]
  },
  {
   "cell_type": "code",
   "execution_count": 23,
   "metadata": {},
   "outputs": [],
   "source": [
    "us_nonimm_country_map['Code'] = us_nonimm_country_map['Countries'].map(country_codes_us)\n",
    "\n",
    "# to check for existing errors, I used: us_nonimm_country_map.loc[us_nonimm_country_map['Code'].isna() == True]"
   ]
  },
  {
   "cell_type": "code",
   "execution_count": 24,
   "metadata": {},
   "outputs": [],
   "source": [
    "# fix final values \n",
    "\n",
    "us_nonimm_country_map.loc[us_nonimm_country_map['Countries'] == \"Kosovo\", 'Code'] = \"XKX\"\n",
    "us_nonimm_country_map.loc[us_nonimm_country_map['Countries'] == \"Swaziland\", 'Code'] = \"SWZ\"\n",
    "us_nonimm_country_map.loc[us_nonimm_country_map['Countries'] == \"Taiwan\", 'Code'] = \"TWN\"\n",
    "us_nonimm_country_map.loc[us_nonimm_country_map['Countries'] == \"China, People's Republic\", 'Code'] = \"CHN\"\n",
    "us_nonimm_country_map.drop(us_nonimm_country_map.loc[us_nonimm_country_map['Countries'] == 'Unknown'].index, inplace=True)\n",
    "\n",
    "# to check that no Nan values remain, I used: us_nonimm_country_map.loc[us_nonimm_country_map['Code'].isna() == True]"
   ]
  },
  {
   "cell_type": "code",
   "execution_count": 25,
   "metadata": {},
   "outputs": [],
   "source": [
    "# fix layout\n",
    "\n",
    "us_lpr_country_17.head(15)\n",
    "us_lpr_country = us_lpr_country_17.iloc[14:, :2]\n",
    "us_lpr_country.columns = ['Countries', 'Total']\n",
    "\n",
    "fix_us_2 = {'D': '0', '-' : '0'}\n",
    "\n",
    "us_lpr_country['Total'] = us_lpr_country['Total'].map(fix_us_2).fillna(us_lpr_country['Total'])\n",
    "us_lpr_country['Total'].astype(float)\n",
    "\n",
    "# merge dataframes\n",
    "\n",
    "us_country_map = pd.merge(us_nonimm_country_map, us_lpr_country, on = 'Countries', how = 'left')\n",
    "us_country_map.rename(columns = {'Total_x' : 'Nonimmigrants', 'Total_y' : 'Immigrants'}, inplace=True)\n",
    "us_country_map = us_country_map[['Countries', 'Code', 'Nonimmigrants', 'Immigrants']]\n",
    "us_country_map['Total'] = us_country_map[['Nonimmigrants', 'Immigrants']].astype(float).sum(axis=1)\n",
    "us_country_map['Text'] = us_country_map['Countries'] + ': ' + us_country_map['Total'].astype(str)"
   ]
  },
  {
   "cell_type": "markdown",
   "metadata": {},
   "source": [
    "## Germany Data"
   ]
  },
  {
   "cell_type": "code",
   "execution_count": 26,
   "metadata": {},
   "outputs": [],
   "source": [
    "# fix layout\n",
    "\n",
    "de_imm_number_clean = de_imm_number.iloc[:, [0, 3]]\n",
    "de_imm_number_clean.columns = ['Visa', 'Total']\n",
    "\n",
    "# create smaller dataframe\n",
    "\n",
    "de_imm_number_visas = de_imm_number_clean.loc[\n",
    "                    (de_imm_number_clean['Visa'] == 'Permission to reside') | \n",
    "                    (de_imm_number_clean['Visa'] == 'Temp. residence title according to Foreigners Act') |\n",
    "                    (de_imm_number_clean['Visa'] == 'Unlim. residence title according to Foreigners Act') |\n",
    "                    (de_imm_number_clean['Visa'] == 'Right of unlim. res. according to Foreigners Act') |\n",
    "                    (de_imm_number_clean['Visa'] == 'Residence title for spec. purp. acc. to For. Act') |\n",
    "                    (de_imm_number_clean['Visa'] == 'Residence title for except. purp. acc. to For. Act') |\n",
    "                    (de_imm_number_clean['Visa'] == '1998-12-31') | \n",
    "                    (de_imm_number_clean['Visa'] == '1999-12-31') | \n",
    "                    (de_imm_number_clean['Visa'] == '2000-12-31') | \n",
    "                    (de_imm_number_clean['Visa'] == '2001-12-31') | \n",
    "                    (de_imm_number_clean['Visa'] == '2002-12-31') | \n",
    "                    (de_imm_number_clean['Visa'] == '2003-12-31') | \n",
    "                    (de_imm_number_clean['Visa'] == '2004-12-31') | \n",
    "                    (de_imm_number_clean['Visa'] == '2005-12-31') | \n",
    "                    (de_imm_number_clean['Visa'] == '2006-12-31') | \n",
    "                    (de_imm_number_clean['Visa'] == '2007-12-31') | \n",
    "                    (de_imm_number_clean['Visa'] == '2008-12-31') |\n",
    "                    (de_imm_number_clean['Visa'] == '2009-12-31') |\n",
    "                    (de_imm_number_clean['Visa'] == '2010-12-31') |\n",
    "                    (de_imm_number_clean['Visa'] == '2011-12-31') |\n",
    "                    (de_imm_number_clean['Visa'] == '2012-12-31') |\n",
    "                    (de_imm_number_clean['Visa'] == '2013-12-31') |\n",
    "                    (de_imm_number_clean['Visa'] == '2014-12-31') |\n",
    "                    (de_imm_number_clean['Visa'] == '2015-12-31') |\n",
    "                    (de_imm_number_clean['Visa'] == '2016-12-31') |\n",
    "                    (de_imm_number_clean['Visa'] == '2017-12-31') \n",
    "                    ]\n",
    "\n",
    "# reshape dataframe using .loc and lists\n",
    "\n",
    "temp_res_df = de_imm_number_visas.loc[de_imm_number_visas['Visa'] == 'Temp. residence title according to Foreigners Act']\n",
    "temp_res = temp_res_df['Total'].tolist()\n",
    "\n",
    "unlim_res_df = de_imm_number_visas.loc[de_imm_number_visas['Visa'] == 'Unlim. residence title according to Foreigners Act']\n",
    "unlim_res = unlim_res_df['Total'].tolist()\n",
    "\n",
    "years_1 = ['1998', '1999', '2000', '2001', '2002', '2003', '2004', '2005', '2006', '2007', '2008', '2009', '2010', '2011', '2012', '2013', '2014', '2015', '2016', '2017']"
   ]
  },
  {
   "cell_type": "code",
   "execution_count": 27,
   "metadata": {},
   "outputs": [],
   "source": [
    "de_res = pd.DataFrame(columns=['Year',  \n",
    "                           'Temp. residence title according to Foreigners Act', \n",
    "                           'Unlim. residence title according to Foreigners Act', \n",
    "                            ])\n",
    "\n",
    "de_res['Year'] = years_1\n",
    "de_res['Temp. residence title according to Foreigners Act'] = temp_res\n",
    "de_res['Unlim. residence title according to Foreigners Act'] = unlim_res"
   ]
  },
  {
   "cell_type": "code",
   "execution_count": 28,
   "metadata": {},
   "outputs": [],
   "source": [
    "# fix layout\n",
    "\n",
    "de_ref_asy_hum = de_ref_asy_hum_number.iloc[:, [0, 3]]\n",
    "de_ref_asy_hum = de_ref_asy_hum.drop([0, 1, 2, 3])\n",
    "de_ref_asy_hum.columns = ['Visa', 'Total']\n",
    "\n",
    "# reshape dataframe using .loc and lists\n",
    "\n",
    "asylees_df = de_ref_asy_hum.loc[de_ref_asy_hum['Visa'] == 'S.25(1),RA,resid.permit,persons entitled to asylum']\n",
    "asylees = asylees_df['Total'].tolist()\n",
    "\n",
    "refugees_df = de_ref_asy_hum.loc[de_ref_asy_hum['Visa'] == 'S.25(2),RA,resid.permit,foreig.with refugee status']\n",
    "refugees = refugees_df['Total'].tolist()\n",
    "\n",
    "humanitarian_df = de_ref_asy_hum.loc[de_ref_asy_hum['Visa'] == 'S.22,1.s.,RA,res.perm., int.law,urg.human.grounds']\n",
    "humanitarian = humanitarian_df['Total'].tolist()\n",
    "\n",
    "years_2 = ['2007', '2008', '2009', '2010', '2011', '2012', '2013', '2014', '2015', '2016', '2017']\n",
    "\n",
    "de_prot = pd.DataFrame(columns=['Year', \n",
    "                           'Asylum', \n",
    "                           'Refugee', \n",
    "                           'Humanitarian', \n",
    "                            ])\n",
    "\n",
    "de_prot['Year'] = years_2\n",
    "de_prot['Asylum'] = asylees\n",
    "de_prot['Refugee'] = refugees\n",
    "de_prot['Humanitarian'] = humanitarian"
   ]
  },
  {
   "cell_type": "code",
   "execution_count": 29,
   "metadata": {},
   "outputs": [],
   "source": [
    "de_pop = de_pop.iloc[4:22]\n",
    "de_pop.columns = ['Year', 'Total']\n",
    "years_3 = ['2000', '2001', '2002',  '2003', '2004', '2005', '2006', '2007', '2008', '2009', '2010', '2011', '2012', '2013', '2014', '2015', '2016', '2017']\n",
    "de_pop['Year'] = years_3"
   ]
  },
  {
   "cell_type": "code",
   "execution_count": 30,
   "metadata": {},
   "outputs": [],
   "source": [
    "# merge dataframes\n",
    "\n",
    "de_1 = pd.merge(de_res, de_prot, on = 'Year', how = 'left')\n",
    "de = pd.merge(de_1, de_pop, on='Year', how = 'left')\n",
    "de.fillna(\"\", inplace=True)\n",
    "de['All Protected Persons'] = de[['Asylum', 'Refugee', 'Humanitarian']].sum(axis=1)"
   ]
  },
  {
   "cell_type": "code",
   "execution_count": 31,
   "metadata": {},
   "outputs": [],
   "source": [
    "# fix layout\n",
    "\n",
    "de_imm_country_map = de_imm_country_17.iloc[8:, [0, 3]]\n",
    "de_imm_country_map.reset_index(inplace=True)\n",
    "de_imm_country_map = de_imm_country_map.iloc[:, [1,2]]\n",
    "de_imm_country_map = de_imm_country_map.iloc[:206, :]\n",
    "de_imm_country_map.columns = ['Countries', 'Total']"
   ]
  },
  {
   "cell_type": "code",
   "execution_count": 32,
   "metadata": {},
   "outputs": [],
   "source": [
    "# create dictionary \n",
    "\n",
    "country_codes_de = dict(zip(country_codes_original['Country or Area'], country_codes_original['ISO-alpha3 Code']))\n",
    "\n",
    "# map dictionary \n",
    "\n",
    "de_imm_country_map['Code'] = de_imm_country_map['Countries'].map(country_codes_de)\n",
    "\n",
    "# to check for errors, I used: de_imm_country_map.loc[de_imm_country_map['Code'].isna() == True]"
   ]
  },
  {
   "cell_type": "code",
   "execution_count": 33,
   "metadata": {},
   "outputs": [],
   "source": [
    "# create dictionary with errors \n",
    "\n",
    "fix_de = { \n",
    "    \"Afghanistan\" : \"Afghanistan, Republic of\", \n",
    "    \"Bolivia (Plurinational State of)\" : \"Bolivia, Plurinational State\", \n",
    "    \"Côte d’Ivoire\" : \"Cote d'Ivoire\",\n",
    "    \"Iran (Islamic Republic of)\" : \"Iran, Islamic Republic of\", \n",
    "    \"Democratic Republic of the Congo\" : \"Congo, The Democratic Republic of the\", \n",
    "    \"Congo\" : \"Congo, Republic of the\",\n",
    "    \"Democratic People's Republic of Korea\" : \"Korea, Democratic People's Republic\",\n",
    "    \"Republic of Korea\" : \"Korea, Republic of\",  \n",
    "    \"North Macedonia\" : \"Macedonia, the former Yugoslav Republic of\",\n",
    "    \"Micronesia (Federated States of)\" : \"Micronesia, Federated States of\",\n",
    "    \"Republic of Moldova\" : \"Moldova, Republic of\",\n",
    "    \"Montenegro\" : \"Montenegro (since 2006-06-03)\",\n",
    "    \"Serbia\" : \"Serbia (without Kosovo) (since 2008-02-17)\",\n",
    "    \"Sudan\" : \"Sudan (including South Sudan) (until 2011-07-08)\",\n",
    "    \"Syrian Arab Republic\" : \"Syrian\",\n",
    "    \"United Republic of Tanzania\" : \"Tanzania\", \n",
    "    \"Holy See\" : \"Vatican City State\", \n",
    "    \"Venezuela (Bolivarian Republic of)\" : \"Venezuela, Bolivarian Republic of\", \n",
    "    \"United States of America\" : \"United States\", \n",
    "    \"United Kingdom of Great Britain and Northern Ireland\" : \"United Kingdom\"\n",
    "    }\n",
    "\n",
    "\n",
    "# fix values\n",
    "\n",
    "country_codes_fixed_de = country_codes_original.copy()\n",
    "country_codes_fixed_de['Country or Area'] = country_codes_original['Country or Area'].map(fix_de).fillna(country_codes_original['Country or Area'])\n",
    "\n",
    "\n",
    "# override dictionary\n",
    "\n",
    "country_codes_de = dict(zip(country_codes_fixed_de['Country or Area'], country_codes_fixed_de['ISO-alpha3 Code']))"
   ]
  },
  {
   "cell_type": "code",
   "execution_count": 34,
   "metadata": {},
   "outputs": [],
   "source": [
    "# map new dictionary \n",
    "\n",
    "de_imm_country_map['Code'] = de_imm_country_map['Countries'].map(country_codes_de)\n",
    "\n",
    "# to check for errors, I used: de_imm_country_map.loc[de_imm_country_map['Code'].isna() == True]"
   ]
  },
  {
   "cell_type": "code",
   "execution_count": 35,
   "metadata": {},
   "outputs": [],
   "source": [
    "# fix final values\n",
    "\n",
    "de_imm_country_map.loc[de_imm_country_map['Countries'] == \"China\", 'Code'] = \"CHN\"\n",
    "de_imm_country_map.loc[de_imm_country_map['Countries'] == \"United Kingdom\", 'Total'] = 117250 \n",
    "de_imm_country_map.drop(de_imm_country_map.loc[de_imm_country_map['Countries'] == 'British Overseas Territories'].index, inplace=True)\n",
    "de_imm_country_map.loc[de_imm_country_map['Countries'] == \"Hong Kong\", 'Code'] = \"HKG\"\n",
    "de_imm_country_map.drop(de_imm_country_map.loc[de_imm_country_map['Countries'] == 'Yugoslavia, Socialist Federal Rep. (u. 1992-04-26)'].index, inplace=True)\n",
    "de_imm_country_map.drop(de_imm_country_map.loc[de_imm_country_map['Countries'] == 'Yugoslavia, Federal Rep.(1992-04-27 to 2003-02-04)'].index, inplace=True)\n",
    "de_imm_country_map.loc[de_imm_country_map['Countries'] == \"Kosovo\", 'Code'] = \"XKX\"\n",
    "de_imm_country_map.loc[de_imm_country_map['Countries'] == \"Macau\", 'Code'] = \"MAC\"\n",
    "de_imm_country_map.loc[de_imm_country_map['Countries'] == \"Palestinian Territories\", 'Code'] = \"PSE\"\n",
    "de_imm_country_map.loc[de_imm_country_map['Countries'] == \"Serbia\", 'Total'] = 251915\n",
    "de_imm_country_map.drop(de_imm_country_map.loc[de_imm_country_map['Countries'] == 'Serbia (incl. Kosovo) (2006-06-03 to 2008-02-16)'].index, inplace=True)\n",
    "de_imm_country_map.drop(de_imm_country_map.loc[de_imm_country_map['Countries'] == 'Serbia and Montenegro (2003-02-05 to 2006-06-02)'].index, inplace=True)\n",
    "de_imm_country_map.loc[de_imm_country_map['Countries'] == \"Russian Federation\", 'Total'] = 254050\n",
    "de_imm_country_map.drop(de_imm_country_map.loc[de_imm_country_map['Countries'] == 'Soviet Union (until 1991-12-25)'].index, inplace=True)\n",
    "de_imm_country_map.loc[de_imm_country_map['Countries'] == \"Sudan\", 'Total'] = 7760\n",
    "de_imm_country_map.drop(de_imm_country_map.loc[de_imm_country_map['Countries'] == 'Sudan (without South Sudan) (since 2011-07-09)'].index, inplace=True)\n",
    "de_imm_country_map.loc[de_imm_country_map['Countries'] == \"South Sudan (since 2011-07-09)\", 'Code'] = \"SSD\"\n",
    "de_imm_country_map.loc[de_imm_country_map['Countries'] == \"Swaziland\", 'Code'] = \"SWZ\"\n",
    "de_imm_country_map.loc[de_imm_country_map['Countries'] == \"Taiwan\", 'Code'] = \"TWN\"\n",
    "de_imm_country_map.drop(de_imm_country_map.loc[de_imm_country_map['Countries'] == 'Czechoslovakia (until 1992-12-31)'].index, inplace=True)\n",
    "de_imm_country_map.loc[de_imm_country_map['Total'] == \"-\"] = 0"
   ]
  },
  {
   "cell_type": "code",
   "execution_count": 36,
   "metadata": {},
   "outputs": [],
   "source": [
    "# as a final check, I used: de_imm_country_map.loc[de_imm_country_map['Code'].isna() == True]"
   ]
  },
  {
   "cell_type": "code",
   "execution_count": 37,
   "metadata": {},
   "outputs": [],
   "source": [
    "# create Text column \n",
    "\n",
    "de_imm_country_map['Text'] = de_imm_country_map['Countries'].astype(str) + \": \" + de_imm_country_map['Total'].astype(str)"
   ]
  },
  {
   "cell_type": "code",
   "execution_count": 38,
   "metadata": {},
   "outputs": [],
   "source": [
    "# to more easily compare U.S. and Germany, I merged dataframes\n",
    "\n",
    "comp = pd.merge(de, us, on = 'Year', how = 'left')\n",
    "comp.drop(columns = ['Asylum', 'Refugee', 'Humanitarian', 'Annual Ceiling'], inplace=True)\n",
    "comp.drop([0, 1], axis = 0, inplace = True)\n",
    "comp.columns = ['Year', 'DE: Temp Res', 'DE: Perm Res', 'DE: Pop', 'DE: Prot', 'US: Perm Res', 'US: Temp Res', 'US: Prot', 'US: Pop']\n",
    "comp = comp[['Year', 'DE: Temp Res', 'DE: Perm Res', 'DE: Prot', 'DE: Pop', 'US: Temp Res', 'US: Perm Res', 'US: Prot', 'US: Pop']]\n",
    "comp = comp.reset_index(drop = True)\n",
    "comp['DE: % Temp'] = (comp['DE: Temp Res'] / comp['DE: Pop']) * 100\n",
    "comp['DE: % Perm'] = (comp['DE: Perm Res'] / comp['DE: Pop']) * 100\n",
    "comp.loc[comp['DE: Prot'] == \"\", 'DE: Prot'] = 0\n",
    "comp['DE: % Prot'] = (comp['DE: Prot'] / comp['DE: Pop']) * 100\n",
    "comp['US: % Temp'] = (comp['US: Temp Res'] / comp['US: Pop']) * 100\n",
    "comp['US: % Perm'] = (comp['US: Perm Res'] / comp['US: Pop']) * 100\n",
    "comp['US: % Prot'] = (comp['US: Prot'] / comp['US: Pop']) * 100\n",
    "comp = comp[['Year', 'DE: Temp Res', 'DE: % Temp', 'DE: Perm Res', 'DE: % Perm', 'DE: Prot', 'DE: % Prot', 'DE: Pop', 'US: Temp Res', 'US: % Temp', 'US: Perm Res', 'US: % Perm', 'US: Prot', 'US: % Prot', 'US: Pop']]\n",
    "comp.loc[comp['DE: % Prot'] == 0, 'DE: % Prot'] = \"No Data\""
   ]
  },
  {
   "cell_type": "code",
   "execution_count": 40,
   "metadata": {},
   "outputs": [],
   "source": [
    "# export all dataframes to .csv files \n",
    "\n",
    "us_graph_1.to_csv(\"us_graph_1.csv\")\n",
    "de.to_csv(\"de.csv\")\n",
    "comp.to_csv(\"comp.csv\")\n",
    "us_country_map.to_csv(\"us_country_map.csv\")\n",
    "de_imm_country_map.to_csv(\"de_imm_country_map.csv\")"
   ]
  }
 ],
 "metadata": {
  "kernelspec": {
   "display_name": "Python 3",
   "language": "python",
   "name": "python3"
  },
  "language_info": {
   "codemirror_mode": {
    "name": "ipython",
    "version": 3
   },
   "file_extension": ".py",
   "mimetype": "text/x-python",
   "name": "python",
   "nbconvert_exporter": "python",
   "pygments_lexer": "ipython3",
   "version": "3.7.1"
  }
 },
 "nbformat": 4,
 "nbformat_minor": 2
}
